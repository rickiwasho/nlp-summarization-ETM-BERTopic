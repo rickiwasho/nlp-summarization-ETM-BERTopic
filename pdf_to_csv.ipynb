{
 "cells": [
  {
   "cell_type": "code",
   "execution_count": 6,
   "id": "ce84762d",
   "metadata": {},
   "outputs": [],
   "source": [
    "import pandas as pd\n",
    "import pdfplumber\n",
    "from pdfplumber.utils import cluster_objects\n",
    "from pdfplumber.utils import collate_line as base_collate_line\n",
    "from pdfplumber.utils import DEFAULT_Y_TOLERANCE, DEFAULT_X_TOLERANCE\n",
    "from operator import itemgetter\n",
    "from functools import partial\n",
    "import PyPDF2\n",
    "import re\n",
    "\n",
    "open_bold_tag = \"<b>\"\n",
    "close_bold_tag = \"</b>\"\n",
    "\n",
    "def get_bold_sentences(text):\n",
    "    return re.findall(r'<b>(.+?)</b>', text)\n",
    "\n",
    "def remove_bold_tags(text):\n",
    "    return re.sub(r'</?b>', '', text)\n",
    "\n",
    "def btag_collate_line(line_chars,\n",
    "                      bold_check_func=None,\n",
    "                      tolerance=DEFAULT_X_TOLERANCE):\n",
    "    open_bold_tag = \"<b>\"\n",
    "    close_bold_tag = \"</b>\"\n",
    "    coll = \"\"\n",
    "    last_x1 = None\n",
    "    global bold_sentence\n",
    "    for char in sorted(line_chars, key=itemgetter(\"x0\")):\n",
    "        if (last_x1 is not None) and (char[\"x0\"] > (last_x1 + tolerance)):\n",
    "            coll += \" \"\n",
    "        last_x1 = char[\"x1\"]\n",
    "        if bold_check_func(char):\n",
    "            if not bold_sentence:\n",
    "                coll += open_bold_tag\n",
    "                bold_sentence = True\n",
    "        else:\n",
    "            if bold_sentence:\n",
    "                coll += close_bold_tag\n",
    "                bold_sentence = False\n",
    "        coll += char[\"text\"]\n",
    "    return coll\n",
    "\n",
    "\n",
    "def extract_text_with_bolds(page, bold_check_func):\n",
    "    global bold_sentence\n",
    "    if bold_check_func is None:\n",
    "        collate_line = partial(\n",
    "            base_collate_line, tolerance=DEFAULT_X_TOLERANCE)\n",
    "    else:\n",
    "        collate_line = partial(\n",
    "            btag_collate_line, bold_check_func=bold_check_func)\n",
    "    chars = page.dedupe_chars().chars\n",
    "    doctop_clusters = cluster_objects(chars, \"doctop\", DEFAULT_Y_TOLERANCE)\n",
    "    bold_sentence = False\n",
    "    lines = [collate_line(line_chars) for line_chars in doctop_clusters]\n",
    "    if bold_sentence:\n",
    "        lines[-1] += close_bold_tag\n",
    "    return \"\\n\".join(lines)\n",
    "\n",
    "def char_in_tables_vertical(char, tables):\n",
    "    v_mid = (char[\"top\"] + char[\"bottom\"]) / 2\n",
    "    for table in tables:\n",
    "        x0, top, x1, bottom = table.bbox\n",
    "        in_bbox = (v_mid >= top) and (v_mid < bottom)\n",
    "        if in_bbox:\n",
    "            return True\n",
    "    return False\n",
    "\n",
    "def quick_extract_pypdf2(pdf_path, clean=True):\n",
    "    output = \"\"\n",
    "    with open(pdf_path, 'rb') as f:\n",
    "        pdf = PyPDF2.PdfFileReader(f)\n",
    "        for page in range(pdf.numPages):\n",
    "            output += pdf.getPage(page).extractText()\n",
    "    if clean:\n",
    "        output = re.sub(r'\\s+', ' ', output)\n",
    "    return output\n",
    "\n",
    "def custom_extract_pdfplumber(pdf_path, bold_check_func, skip_tables, table_settings):\n",
    "    pdf = pdfplumber.open(pdf_path)\n",
    "    output = \"\"\n",
    "    for page in pdf.pages:\n",
    "        to_extract = page\n",
    "        if skip_tables:\n",
    "            tables = page.find_tables(table_settings)\n",
    "            if tables:\n",
    "                to_extract = page.filter(lambda obj: obj[\"object_type\"] == \"char\"\n",
    "                                         and not char_in_tables_vertical(obj, tables))\n",
    "        output += extract_text_with_bolds(to_extract, bold_check_func)\n",
    "    return output\n",
    "\n",
    "def get_pdf_content(pdf_path,\n",
    "                    clean=True,\n",
    "                    tag_bolds=False,\n",
    "                    skip_tables=True,\n",
    "                    bold_rules=['Bold', 'GuardianSansTT-Medium'],\n",
    "                    bold_check_func=None,\n",
    "                    table_settings={\"edge_min_length\": 10}):\n",
    "    if bold_check_func is None:\n",
    "        if tag_bolds:\n",
    "            def bold_check_func(char): return any(\n",
    "                rule in char['fontname'] for rule in bold_rules)\n",
    "        elif not skip_tables:\n",
    "            # si no se necesitan bolds ni saltarse las tablas se\n",
    "            # usa pypdf2\n",
    "            return quick_extract_pypdf2(pdf_path, clean=clean)\n",
    "    pdf = pdfplumber.open(pdf_path)\n",
    "    output = \"\"\n",
    "    for page in pdf.pages:\n",
    "        to_extract = page\n",
    "        if skip_tables:\n",
    "            tables = page.find_tables(table_settings)\n",
    "            if tables:\n",
    "                to_extract = page.filter(lambda obj: obj[\"object_type\"] == \"char\"\n",
    "                                         and not char_in_tables_vertical(obj, tables))\n",
    "        output += extract_text_with_bolds(to_extract, bold_check_func)\n",
    "    if clean:\n",
    "        output = re.sub(r'\\s+', ' ', output)\n",
    "    return output"
   ]
  },
  {
   "cell_type": "code",
   "execution_count": 7,
   "id": "48790a1a",
   "metadata": {},
   "outputs": [],
   "source": [
    "content = get_pdf_content(\"iliada.pdf\")\n",
    "pages = content.split(\" http://bibliotecadigital.ilce.edu.mx \")\n",
    "len(pages)"
   ]
  },
  {
   "cell_type": "code",
   "execution_count": 20,
   "id": "108fcb92",
   "metadata": {
    "scrolled": true
   },
   "outputs": [
    {
     "data": {
      "text/html": [
       "<div>\n",
       "<style scoped>\n",
       "    .dataframe tbody tr th:only-of-type {\n",
       "        vertical-align: middle;\n",
       "    }\n",
       "\n",
       "    .dataframe tbody tr th {\n",
       "        vertical-align: top;\n",
       "    }\n",
       "\n",
       "    .dataframe thead th {\n",
       "        text-align: right;\n",
       "    }\n",
       "</style>\n",
       "<table border=\"1\" class=\"dataframe\">\n",
       "  <thead>\n",
       "    <tr style=\"text-align: right;\">\n",
       "      <th></th>\n",
       "      <th>page_content</th>\n",
       "    </tr>\n",
       "  </thead>\n",
       "  <tbody>\n",
       "    <tr>\n",
       "      <th>0</th>\n",
       "      <td>La Ilíada Homero Siglo VIII a.C. 0á LA ILÍADA...</td>\n",
       "    </tr>\n",
       "    <tr>\n",
       "      <th>1</th>\n",
       "      <td>CANTO XVI. Patroclea ............................</td>\n",
       "    </tr>\n",
       "    <tr>\n",
       "      <th>2</th>\n",
       "      <td>CANTO I Peste – Cólera Después de una corta in...</td>\n",
       "    </tr>\n",
       "    <tr>\n",
       "      <th>3</th>\n",
       "      <td>suscitó en el ejército maligna peste, y los ho...</td>\n",
       "    </tr>\n",
       "    <tr>\n",
       "      <th>4</th>\n",
       "      <td>alejaba, dirigía muchos ruegos al soberano Apo...</td>\n",
       "    </tr>\n",
       "    <tr>\n",
       "      <th>...</th>\n",
       "      <td>...</td>\n",
       "    </tr>\n",
       "    <tr>\n",
       "      <th>562</th>\n",
       "      <td>en un lecho que las mulas conducían. En seguid...</td>\n",
       "    </tr>\n",
       "    <tr>\n",
       "      <th>563</th>\n",
       "      <td>-¡Marido! Saliste de la vida cuando aún eras j...</td>\n",
       "    </tr>\n",
       "    <tr>\n",
       "      <th>564</th>\n",
       "      <td>lo arrastraba muchas veces en torno del sepulc...</td>\n",
       "    </tr>\n",
       "    <tr>\n",
       "      <th>565</th>\n",
       "      <td>Así dijo. Pronto la gente del pueblo, unciendo...</td>\n",
       "    </tr>\n",
       "    <tr>\n",
       "      <th>566</th>\n",
       "      <td></td>\n",
       "    </tr>\n",
       "  </tbody>\n",
       "</table>\n",
       "<p>567 rows × 1 columns</p>\n",
       "</div>"
      ],
      "text/plain": [
       "                                          page_content\n",
       "0     La Ilíada Homero Siglo VIII a.C. 0á LA ILÍADA...\n",
       "1    CANTO XVI. Patroclea ............................\n",
       "2    CANTO I Peste – Cólera Después de una corta in...\n",
       "3    suscitó en el ejército maligna peste, y los ho...\n",
       "4    alejaba, dirigía muchos ruegos al soberano Apo...\n",
       "..                                                 ...\n",
       "562  en un lecho que las mulas conducían. En seguid...\n",
       "563  -¡Marido! Saliste de la vida cuando aún eras j...\n",
       "564  lo arrastraba muchas veces en torno del sepulc...\n",
       "565  Así dijo. Pronto la gente del pueblo, unciendo...\n",
       "566                                                   \n",
       "\n",
       "[567 rows x 1 columns]"
      ]
     },
     "execution_count": 20,
     "metadata": {},
     "output_type": "execute_result"
    }
   ],
   "source": [
    "import pandas as pd\n",
    "df = pd.DataFrame(pages, columns=['page_content'])\n",
    "df"
   ]
  },
  {
   "cell_type": "code",
   "execution_count": 22,
   "id": "29daf67f",
   "metadata": {
    "scrolled": true
   },
   "outputs": [
    {
     "data": {
      "text/plain": [
       "'-No está el dios quejoso con motivo de algún voto o hecatombe, sino a causa del ultraje que Agamenón ha inferido al sacerdote, a quien no devolvió la hija ni admitió el rescate. Por esto el que hiere de lejos nos causó males y todavía nos causará otros. Y no librará a los dánaos de la odiosa peste, hasta que sea restituida a su padre, sin premio ni rescate, la joven de ojos vivos, y llevemos a Crisa una sagrada hecatombe. Cuando así le hayamos aplacado, renacerá nuestra esperanza. Dichas estas palabras, se sentó. Levantóse al punto el poderoso héroe Agamenón Atrida, afligido, con las negras entrañas llenas de cólera y los ojos parecidos al relumbrante fuego; y, encarando a Calcante la torva vista, exclamó: -¡Adivino de males! jamás me has anunciado nada grato. Siempre te complaces en profetizar desgracias y nunca dijiste ni ejecutaste nada bueno. Y ahora, vaticinando ante los dánaos, afirmas que el que hiere de lejos les envía calamidades, porque no quise admitir el espléndido rescate de la joven Briseida, a quien anhelaba tener en mi casa. La prefiero, ciertamente, a Clitemnestra, mi legítima esposa, porque no le es inferior ni en el talle, ni en el natural, ni en inteligencia, ni en destreza. Pero, aun así y todo, consiento en devolverla, si esto es lo mejor; quiero que el pueblo se salve, no que perezca. Pero preparadme pronto otra recompensa, para que no sea yo el único argivo que sin ella se quede; lo cual no parecería decoroso. Ved todos que se va a otra parte la que me había correspondido. Replicóle en seguida el celerípede divino Aquiles: 7'"
      ]
     },
     "execution_count": 22,
     "metadata": {},
     "output_type": "execute_result"
    }
   ],
   "source": [
    "df.page_content[6]"
   ]
  },
  {
   "cell_type": "code",
   "execution_count": 23,
   "id": "c98f4545",
   "metadata": {
    "scrolled": true
   },
   "outputs": [
    {
     "data": {
      "text/plain": [
       "'-¡Atrida gloriosísimo, el más codicioso de todos! ¿Cómo pueden darte otra recompensa los magnánimos aqueos? No sabemos que existan en parte alguna cosas de la comunidad, pues las del saqueo de las ciudades están repartidas, y no es conveniente obligar a los hombres a que nuevamente las junten. Entrega ahora esa joven al dios, y los aqueos te pagaremos el triple o el cuádruple, si Zeus nos permite algún día tomar la bien murada ciudad de Troya. Y, contestándole, el rey Agamenón le dijo: Aunque seas valiente, deiforme Aquiles, no ocultes así tu pensamiento, pues no podrás burlarme ni persuadirme. ¿Acaso quieres, para conservar tu recompensa, que me quede sin la mía, y por esto me aconsejas que la devuelva? Pues, si los magnánimos aqueos me dan otra conforme a mi deseo para que sea equivalente... Y si no me la dieren, yo mismo me apoderaré de la tuya o de la de Ayante, o me llevaré la de Ulises, y montará en cólera aquél a quien me llegue. Mas sobre esto deliberaremos otro día. Ahora, ea, echemos una negra nave al mar divino, reunamos los convenientes remeros, embarquemos víctimas para una hecatombe y a la misma Briseida, la de hermosas mejillas, y sea capitán cualquiera de los jefes: Ayante, Idomeneo, el divino Ulises o tú, Pelida, el más portentoso de todos los hombres, para que nos aplaques con sacrificios al que hiere de lejos. Mirándolo con torva faz, exclamó Aquiles, el de los pies ligeros: 8'"
      ]
     },
     "execution_count": 23,
     "metadata": {},
     "output_type": "execute_result"
    }
   ],
   "source": [
    "df.page_content[7]"
   ]
  },
  {
   "cell_type": "code",
   "execution_count": null,
   "id": "3563daeb",
   "metadata": {},
   "outputs": [],
   "source": []
  }
 ],
 "metadata": {
  "kernelspec": {
   "display_name": "Python 3 (ipykernel)",
   "language": "python",
   "name": "python3"
  },
  "language_info": {
   "codemirror_mode": {
    "name": "ipython",
    "version": 3
   },
   "file_extension": ".py",
   "mimetype": "text/x-python",
   "name": "python",
   "nbconvert_exporter": "python",
   "pygments_lexer": "ipython3",
   "version": "3.10.4"
  }
 },
 "nbformat": 4,
 "nbformat_minor": 5
}
