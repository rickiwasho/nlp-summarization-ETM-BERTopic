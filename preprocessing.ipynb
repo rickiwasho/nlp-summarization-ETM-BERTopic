{
 "cells": [
  {
   "cell_type": "code",
   "execution_count": 1,
   "id": "ce84762d",
   "metadata": {},
   "outputs": [],
   "source": [
    "import pandas as pd\n",
    "from pdf_to_list import get_pdf_content"
   ]
  },
  {
   "cell_type": "code",
   "execution_count": 2,
   "id": "48790a1a",
   "metadata": {},
   "outputs": [
    {
     "data": {
      "text/plain": [
       "567"
      ]
     },
     "execution_count": 2,
     "metadata": {},
     "output_type": "execute_result"
    }
   ],
   "source": [
    "content = get_pdf_content(\"iliada.pdf\")\n",
    "pages = content.split(\" http://bibliotecadigital.ilce.edu.mx \")\n",
    "len(pages)"
   ]
  },
  {
   "cell_type": "code",
   "execution_count": 3,
   "id": "108fcb92",
   "metadata": {
    "scrolled": true
   },
   "outputs": [
    {
     "data": {
      "text/plain": [
       "'alejaba, dirigía muchos ruegos al soberano Apolo, a quien parió Leto, la de hermosa cabellera: -¡Óyeme, tú que llevas arco de plata, proteges a Crisa y a la divina Cila, a imperas en Ténedos poderosamente! ¡Oh Esminteo! Si alguna vez adorné tu gracioso templo o quemé en tu honor pingües muslos de toros o de cabras, cúmpleme este voto: ¡Paguen los dánaos mis lágrimas con tus flechas! Así dijo rogando. Oyóle Febo Apolo e, irritado en su corazón, descendió de las cumbres del Olimpo con el arco y el cerrado carcaj en los hombros; las saetas resonaron sobre la espalda del enojado dios, cuando comenzó a moverse. Iba parecido a la noche. Sentóse lejos de las naves, tiró una flecha y el arco de plata dio un terrible chasquido. Al principio el dios disparaba contra los mulos y los ágiles perros; mas luego dirigió sus amargas saetas a los hombres, y continuamente ardían muchas piras de cadáveres. Durante nueve días volaron por el ejército las flechas del dios. En el décimo, Aquiles convocó al pueblo al ágora: se lo puso en el corazón Hera, la diosa de los níveos brazos, que se interesaba por los dánaos, a quienes veía morir. Acudieron éstos y, una vez reunidos, Aquiles, el de los pies ligeros, se levantó y dijo: -¡Atrida! Creo que tendremos que volver atrás, yendo otra vez errantes, si escapamos de la muerte; pues, si no, la guerra y la peste unidas acabarán con los aqueos. Mas, ea, consultemos a un adivino, sacerdote o intérprete de sueños -pues también el sueño procede de Zeus-, para que nos diga por qué se irritó 5'"
      ]
     },
     "execution_count": 3,
     "metadata": {},
     "output_type": "execute_result"
    }
   ],
   "source": [
    "df = pd.DataFrame(pages, columns=['page_content']) # cada página en una fila del dataframe \n",
    "df.page_content[4]"
   ]
  },
  {
   "cell_type": "code",
   "execution_count": 8,
   "id": "3563daeb",
   "metadata": {},
   "outputs": [
    {
     "data": {
      "text/plain": [
       "[' La Ilíada Homero Siglo VIII aC 0á LA ILÍADA ',\n",
       " 'I Peste – Cólera  3 ',\n",
       " 'II Sueño- Beocia o catálogo de las naves  26 ',\n",
       " 'III Juramentos- Contemplando desde la muralla – Combate singular de Alejandro y Menelao  57 ',\n",
       " 'IV Violación de los juramentos – Agamenón reuista las tropas  73 ',\n",
       " 'V Principalía de Diomedes  92 ',\n",
       " 'VI Coloquio de Héctor y Andrómaca  124 ',\n",
       " 'VII Combate singular de Héctor y Ayante  143 Levantamiento de los cadáveres  143 ',\n",
       " 'VIII Batalla interrumpida 160 ',\n",
       " 'IX Embajada a Aquiles- Súplicas  181 ',\n",
       " 'X Dolonia  204 ',\n",
       " 'XI Principalía de Agamenón  225 ',\n",
       " 'XII Combate en la muralla 255 ',\n",
       " 'XIII Batalla junto a las naves  271 ',\n",
       " 'XIV Engaño de Zeus  301 ',\n",
       " 'XV Nueva ofensiva desde las naves  320 1',\n",
       " '',\n",
       " 'XVI Patroclea  347 ',\n",
       " 'XVII Principalía de Menelao  378 ',\n",
       " 'XVIII Fabricación de las armas  407 ',\n",
       " 'XIX Renunciamiento de la cólera  429 ',\n",
       " 'XX Combate de los dioses  444 ',\n",
       " 'XXI Batalla junto al río  462 ',\n",
       " 'XXII Muerte de Héctor  485 ',\n",
       " 'XXIII Juegos en honor de Patroclo  504 ',\n",
       " 'XXIV Rescate de Héctor  537 2']"
      ]
     },
     "execution_count": 8,
     "metadata": {},
     "output_type": "execute_result"
    }
   ],
   "source": [
    "# Obtener N° del capítulo, nombre del capítulo y su página\n",
    "page1 = df.page_content[0]\n",
    "page2 = df.page_content[1]\n",
    "clean = []\n",
    "\n",
    "items = page1.split(\"CANTO \")\n",
    "items2 = page2.split(\"CANTO \")\n",
    "\n",
    "for item in items: clean.append(item.replace(\".\", \"\"))\n",
    "for item in items2: clean.append(item.replace(\".\", \"\"))\n",
    "\n",
    "clean"
   ]
  },
  {
   "cell_type": "code",
   "execution_count": null,
   "id": "3c85ebe9",
   "metadata": {},
   "outputs": [],
   "source": [
    "for index, row in df.iterrows():\n",
    "    if(row[])"
   ]
  }
 ],
 "metadata": {
  "kernelspec": {
   "display_name": "Python 3 (ipykernel)",
   "language": "python",
   "name": "python3"
  },
  "language_info": {
   "codemirror_mode": {
    "name": "ipython",
    "version": 3
   },
   "file_extension": ".py",
   "mimetype": "text/x-python",
   "name": "python",
   "nbconvert_exporter": "python",
   "pygments_lexer": "ipython3",
   "version": "3.10.4"
  }
 },
 "nbformat": 4,
 "nbformat_minor": 5
}
